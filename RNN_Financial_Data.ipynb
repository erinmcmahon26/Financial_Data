{
  "nbformat": 4,
  "nbformat_minor": 0,
  "metadata": {
    "colab": {
      "name": "RNN_Financial_Data.ipynb",
      "provenance": [],
      "authorship_tag": "ABX9TyP/vQniYCNJbP5n3y8vXJxK",
      "include_colab_link": true
    },
    "kernelspec": {
      "name": "python3",
      "display_name": "Python 3"
    },
    "language_info": {
      "name": "python"
    }
  },
  "cells": [
    {
      "cell_type": "markdown",
      "metadata": {
        "id": "view-in-github",
        "colab_type": "text"
      },
      "source": [
        "<a href=\"https://colab.research.google.com/github/erinmcmahon26/Financial_Data/blob/main/RNN_Financial_Data.ipynb\" target=\"_parent\"><img src=\"https://colab.research.google.com/assets/colab-badge.svg\" alt=\"Open In Colab\"/></a>"
      ]
    },
    {
      "cell_type": "markdown",
      "source": [
        "### Ingest Data"
      ],
      "metadata": {
        "id": "8WnNvLgyJ1sI"
      }
    },
    {
      "cell_type": "code",
      "source": [
        "import numpy as np\n",
        "import pandas as pd\n",
        "import math\n",
        "import matplotlib.pyplot as plt\n",
        "from sklearn.preprocessing import MinMaxScaler\n",
        "from keras.models import Sequential\n",
        "from keras.layers import Dense, Dropout, LSTM, SimpleRNN, BatchNormalization\n",
        "from sklearn.metrics import mean_squared_error\n",
        "\n",
        "import seaborn as sns\n",
        "import tensorflow as tf"
      ],
      "metadata": {
        "id": "In4Kotqcq8RL"
      },
      "execution_count": 185,
      "outputs": []
    },
    {
      "cell_type": "code",
      "source": [
        "df = pd.read_csv('https://raw.githubusercontent.com/erinmcmahon26/Financial_Data/main/it.csv')"
      ],
      "metadata": {
        "id": "tKlT6WGWuvZZ"
      },
      "execution_count": 186,
      "outputs": []
    },
    {
      "cell_type": "code",
      "source": [
        "df.info()"
      ],
      "metadata": {
        "colab": {
          "base_uri": "https://localhost:8080/"
        },
        "id": "CLzfjygFDovl",
        "outputId": "1a6ad7cd-1c66-45a4-ae74-4fa142a173bd"
      },
      "execution_count": 187,
      "outputs": [
        {
          "output_type": "stream",
          "name": "stdout",
          "text": [
            "<class 'pandas.core.frame.DataFrame'>\n",
            "RangeIndex: 1259 entries, 0 to 1258\n",
            "Data columns (total 6 columns):\n",
            " #   Column      Non-Null Count  Dtype  \n",
            "---  ------      --------------  -----  \n",
            " 0   Date        1259 non-null   object \n",
            " 1   Close/Last  1259 non-null   float64\n",
            " 2   Volume      1259 non-null   object \n",
            " 3   Open        1259 non-null   float64\n",
            " 4   High        1259 non-null   float64\n",
            " 5   Low         1259 non-null   float64\n",
            "dtypes: float64(4), object(2)\n",
            "memory usage: 59.1+ KB\n"
          ]
        }
      ]
    },
    {
      "cell_type": "code",
      "source": [
        "df.head()"
      ],
      "metadata": {
        "colab": {
          "base_uri": "https://localhost:8080/",
          "height": 206
        },
        "id": "lQoF-KkK_1LV",
        "outputId": "67446bac-347e-4e8a-cde0-e41942f0e288"
      },
      "execution_count": 188,
      "outputs": [
        {
          "output_type": "execute_result",
          "data": {
            "text/html": [
              "\n",
              "  <div id=\"df-0d165374-ac5f-4b61-861c-2441ec8fa61b\">\n",
              "    <div class=\"colab-df-container\">\n",
              "      <div>\n",
              "<style scoped>\n",
              "    .dataframe tbody tr th:only-of-type {\n",
              "        vertical-align: middle;\n",
              "    }\n",
              "\n",
              "    .dataframe tbody tr th {\n",
              "        vertical-align: top;\n",
              "    }\n",
              "\n",
              "    .dataframe thead th {\n",
              "        text-align: right;\n",
              "    }\n",
              "</style>\n",
              "<table border=\"1\" class=\"dataframe\">\n",
              "  <thead>\n",
              "    <tr style=\"text-align: right;\">\n",
              "      <th></th>\n",
              "      <th>Date</th>\n",
              "      <th>Close/Last</th>\n",
              "      <th>Volume</th>\n",
              "      <th>Open</th>\n",
              "      <th>High</th>\n",
              "      <th>Low</th>\n",
              "    </tr>\n",
              "  </thead>\n",
              "  <tbody>\n",
              "    <tr>\n",
              "      <th>0</th>\n",
              "      <td>03/02/2022</td>\n",
              "      <td>4386.54</td>\n",
              "      <td>--</td>\n",
              "      <td>4322.56</td>\n",
              "      <td>4401.48</td>\n",
              "      <td>4322.56</td>\n",
              "    </tr>\n",
              "    <tr>\n",
              "      <th>1</th>\n",
              "      <td>03/01/2022</td>\n",
              "      <td>4306.26</td>\n",
              "      <td>--</td>\n",
              "      <td>4363.14</td>\n",
              "      <td>4378.45</td>\n",
              "      <td>4279.54</td>\n",
              "    </tr>\n",
              "    <tr>\n",
              "      <th>2</th>\n",
              "      <td>02/28/2022</td>\n",
              "      <td>4373.94</td>\n",
              "      <td>--</td>\n",
              "      <td>4354.17</td>\n",
              "      <td>4388.84</td>\n",
              "      <td>4315.12</td>\n",
              "    </tr>\n",
              "    <tr>\n",
              "      <th>3</th>\n",
              "      <td>02/25/2022</td>\n",
              "      <td>4384.65</td>\n",
              "      <td>--</td>\n",
              "      <td>4298.38</td>\n",
              "      <td>4385.34</td>\n",
              "      <td>4286.83</td>\n",
              "    </tr>\n",
              "    <tr>\n",
              "      <th>4</th>\n",
              "      <td>02/24/2022</td>\n",
              "      <td>4288.70</td>\n",
              "      <td>--</td>\n",
              "      <td>4155.77</td>\n",
              "      <td>4294.73</td>\n",
              "      <td>4114.65</td>\n",
              "    </tr>\n",
              "  </tbody>\n",
              "</table>\n",
              "</div>\n",
              "      <button class=\"colab-df-convert\" onclick=\"convertToInteractive('df-0d165374-ac5f-4b61-861c-2441ec8fa61b')\"\n",
              "              title=\"Convert this dataframe to an interactive table.\"\n",
              "              style=\"display:none;\">\n",
              "        \n",
              "  <svg xmlns=\"http://www.w3.org/2000/svg\" height=\"24px\"viewBox=\"0 0 24 24\"\n",
              "       width=\"24px\">\n",
              "    <path d=\"M0 0h24v24H0V0z\" fill=\"none\"/>\n",
              "    <path d=\"M18.56 5.44l.94 2.06.94-2.06 2.06-.94-2.06-.94-.94-2.06-.94 2.06-2.06.94zm-11 1L8.5 8.5l.94-2.06 2.06-.94-2.06-.94L8.5 2.5l-.94 2.06-2.06.94zm10 10l.94 2.06.94-2.06 2.06-.94-2.06-.94-.94-2.06-.94 2.06-2.06.94z\"/><path d=\"M17.41 7.96l-1.37-1.37c-.4-.4-.92-.59-1.43-.59-.52 0-1.04.2-1.43.59L10.3 9.45l-7.72 7.72c-.78.78-.78 2.05 0 2.83L4 21.41c.39.39.9.59 1.41.59.51 0 1.02-.2 1.41-.59l7.78-7.78 2.81-2.81c.8-.78.8-2.07 0-2.86zM5.41 20L4 18.59l7.72-7.72 1.47 1.35L5.41 20z\"/>\n",
              "  </svg>\n",
              "      </button>\n",
              "      \n",
              "  <style>\n",
              "    .colab-df-container {\n",
              "      display:flex;\n",
              "      flex-wrap:wrap;\n",
              "      gap: 12px;\n",
              "    }\n",
              "\n",
              "    .colab-df-convert {\n",
              "      background-color: #E8F0FE;\n",
              "      border: none;\n",
              "      border-radius: 50%;\n",
              "      cursor: pointer;\n",
              "      display: none;\n",
              "      fill: #1967D2;\n",
              "      height: 32px;\n",
              "      padding: 0 0 0 0;\n",
              "      width: 32px;\n",
              "    }\n",
              "\n",
              "    .colab-df-convert:hover {\n",
              "      background-color: #E2EBFA;\n",
              "      box-shadow: 0px 1px 2px rgba(60, 64, 67, 0.3), 0px 1px 3px 1px rgba(60, 64, 67, 0.15);\n",
              "      fill: #174EA6;\n",
              "    }\n",
              "\n",
              "    [theme=dark] .colab-df-convert {\n",
              "      background-color: #3B4455;\n",
              "      fill: #D2E3FC;\n",
              "    }\n",
              "\n",
              "    [theme=dark] .colab-df-convert:hover {\n",
              "      background-color: #434B5C;\n",
              "      box-shadow: 0px 1px 3px 1px rgba(0, 0, 0, 0.15);\n",
              "      filter: drop-shadow(0px 1px 2px rgba(0, 0, 0, 0.3));\n",
              "      fill: #FFFFFF;\n",
              "    }\n",
              "  </style>\n",
              "\n",
              "      <script>\n",
              "        const buttonEl =\n",
              "          document.querySelector('#df-0d165374-ac5f-4b61-861c-2441ec8fa61b button.colab-df-convert');\n",
              "        buttonEl.style.display =\n",
              "          google.colab.kernel.accessAllowed ? 'block' : 'none';\n",
              "\n",
              "        async function convertToInteractive(key) {\n",
              "          const element = document.querySelector('#df-0d165374-ac5f-4b61-861c-2441ec8fa61b');\n",
              "          const dataTable =\n",
              "            await google.colab.kernel.invokeFunction('convertToInteractive',\n",
              "                                                     [key], {});\n",
              "          if (!dataTable) return;\n",
              "\n",
              "          const docLinkHtml = 'Like what you see? Visit the ' +\n",
              "            '<a target=\"_blank\" href=https://colab.research.google.com/notebooks/data_table.ipynb>data table notebook</a>'\n",
              "            + ' to learn more about interactive tables.';\n",
              "          element.innerHTML = '';\n",
              "          dataTable['output_type'] = 'display_data';\n",
              "          await google.colab.output.renderOutput(dataTable, element);\n",
              "          const docLink = document.createElement('div');\n",
              "          docLink.innerHTML = docLinkHtml;\n",
              "          element.appendChild(docLink);\n",
              "        }\n",
              "      </script>\n",
              "    </div>\n",
              "  </div>\n",
              "  "
            ],
            "text/plain": [
              "         Date  Close/Last Volume     Open     High      Low\n",
              "0  03/02/2022     4386.54     --  4322.56  4401.48  4322.56\n",
              "1  03/01/2022     4306.26     --  4363.14  4378.45  4279.54\n",
              "2  02/28/2022     4373.94     --  4354.17  4388.84  4315.12\n",
              "3  02/25/2022     4384.65     --  4298.38  4385.34  4286.83\n",
              "4  02/24/2022     4288.70     --  4155.77  4294.73  4114.65"
            ]
          },
          "metadata": {},
          "execution_count": 188
        }
      ]
    },
    {
      "cell_type": "markdown",
      "source": [
        "### EDA"
      ],
      "metadata": {
        "id": "ejG4R5LNJ_4O"
      }
    },
    {
      "cell_type": "code",
      "source": [
        "df.describe()"
      ],
      "metadata": {
        "colab": {
          "base_uri": "https://localhost:8080/",
          "height": 300
        },
        "id": "NK4Zn-7v_16O",
        "outputId": "9c952b4a-32a7-4455-e499-2b0006458b11"
      },
      "execution_count": 189,
      "outputs": [
        {
          "output_type": "execute_result",
          "data": {
            "text/html": [
              "\n",
              "  <div id=\"df-2b3eec66-7b5a-4706-9de9-17f4302b59ca\">\n",
              "    <div class=\"colab-df-container\">\n",
              "      <div>\n",
              "<style scoped>\n",
              "    .dataframe tbody tr th:only-of-type {\n",
              "        vertical-align: middle;\n",
              "    }\n",
              "\n",
              "    .dataframe tbody tr th {\n",
              "        vertical-align: top;\n",
              "    }\n",
              "\n",
              "    .dataframe thead th {\n",
              "        text-align: right;\n",
              "    }\n",
              "</style>\n",
              "<table border=\"1\" class=\"dataframe\">\n",
              "  <thead>\n",
              "    <tr style=\"text-align: right;\">\n",
              "      <th></th>\n",
              "      <th>Close/Last</th>\n",
              "      <th>Open</th>\n",
              "      <th>High</th>\n",
              "      <th>Low</th>\n",
              "    </tr>\n",
              "  </thead>\n",
              "  <tbody>\n",
              "    <tr>\n",
              "      <th>count</th>\n",
              "      <td>1259.000000</td>\n",
              "      <td>1259.000000</td>\n",
              "      <td>1259.000000</td>\n",
              "      <td>1259.000000</td>\n",
              "    </tr>\n",
              "    <tr>\n",
              "      <th>mean</th>\n",
              "      <td>3192.298928</td>\n",
              "      <td>3191.924234</td>\n",
              "      <td>3208.506458</td>\n",
              "      <td>3173.734734</td>\n",
              "    </tr>\n",
              "    <tr>\n",
              "      <th>std</th>\n",
              "      <td>690.115533</td>\n",
              "      <td>689.771762</td>\n",
              "      <td>693.402610</td>\n",
              "      <td>686.152071</td>\n",
              "    </tr>\n",
              "    <tr>\n",
              "      <th>min</th>\n",
              "      <td>2237.400000</td>\n",
              "      <td>2290.710000</td>\n",
              "      <td>2300.730000</td>\n",
              "      <td>2191.860000</td>\n",
              "    </tr>\n",
              "    <tr>\n",
              "      <th>25%</th>\n",
              "      <td>2695.475000</td>\n",
              "      <td>2691.405000</td>\n",
              "      <td>2711.000000</td>\n",
              "      <td>2678.390000</td>\n",
              "    </tr>\n",
              "    <tr>\n",
              "      <th>50%</th>\n",
              "      <td>2922.940000</td>\n",
              "      <td>2918.560000</td>\n",
              "      <td>2931.680000</td>\n",
              "      <td>2905.440000</td>\n",
              "    </tr>\n",
              "    <tr>\n",
              "      <th>75%</th>\n",
              "      <td>3642.920000</td>\n",
              "      <td>3642.210000</td>\n",
              "      <td>3655.950000</td>\n",
              "      <td>3631.365000</td>\n",
              "    </tr>\n",
              "    <tr>\n",
              "      <th>max</th>\n",
              "      <td>4796.560000</td>\n",
              "      <td>4804.510000</td>\n",
              "      <td>4818.620000</td>\n",
              "      <td>4780.040000</td>\n",
              "    </tr>\n",
              "  </tbody>\n",
              "</table>\n",
              "</div>\n",
              "      <button class=\"colab-df-convert\" onclick=\"convertToInteractive('df-2b3eec66-7b5a-4706-9de9-17f4302b59ca')\"\n",
              "              title=\"Convert this dataframe to an interactive table.\"\n",
              "              style=\"display:none;\">\n",
              "        \n",
              "  <svg xmlns=\"http://www.w3.org/2000/svg\" height=\"24px\"viewBox=\"0 0 24 24\"\n",
              "       width=\"24px\">\n",
              "    <path d=\"M0 0h24v24H0V0z\" fill=\"none\"/>\n",
              "    <path d=\"M18.56 5.44l.94 2.06.94-2.06 2.06-.94-2.06-.94-.94-2.06-.94 2.06-2.06.94zm-11 1L8.5 8.5l.94-2.06 2.06-.94-2.06-.94L8.5 2.5l-.94 2.06-2.06.94zm10 10l.94 2.06.94-2.06 2.06-.94-2.06-.94-.94-2.06-.94 2.06-2.06.94z\"/><path d=\"M17.41 7.96l-1.37-1.37c-.4-.4-.92-.59-1.43-.59-.52 0-1.04.2-1.43.59L10.3 9.45l-7.72 7.72c-.78.78-.78 2.05 0 2.83L4 21.41c.39.39.9.59 1.41.59.51 0 1.02-.2 1.41-.59l7.78-7.78 2.81-2.81c.8-.78.8-2.07 0-2.86zM5.41 20L4 18.59l7.72-7.72 1.47 1.35L5.41 20z\"/>\n",
              "  </svg>\n",
              "      </button>\n",
              "      \n",
              "  <style>\n",
              "    .colab-df-container {\n",
              "      display:flex;\n",
              "      flex-wrap:wrap;\n",
              "      gap: 12px;\n",
              "    }\n",
              "\n",
              "    .colab-df-convert {\n",
              "      background-color: #E8F0FE;\n",
              "      border: none;\n",
              "      border-radius: 50%;\n",
              "      cursor: pointer;\n",
              "      display: none;\n",
              "      fill: #1967D2;\n",
              "      height: 32px;\n",
              "      padding: 0 0 0 0;\n",
              "      width: 32px;\n",
              "    }\n",
              "\n",
              "    .colab-df-convert:hover {\n",
              "      background-color: #E2EBFA;\n",
              "      box-shadow: 0px 1px 2px rgba(60, 64, 67, 0.3), 0px 1px 3px 1px rgba(60, 64, 67, 0.15);\n",
              "      fill: #174EA6;\n",
              "    }\n",
              "\n",
              "    [theme=dark] .colab-df-convert {\n",
              "      background-color: #3B4455;\n",
              "      fill: #D2E3FC;\n",
              "    }\n",
              "\n",
              "    [theme=dark] .colab-df-convert:hover {\n",
              "      background-color: #434B5C;\n",
              "      box-shadow: 0px 1px 3px 1px rgba(0, 0, 0, 0.15);\n",
              "      filter: drop-shadow(0px 1px 2px rgba(0, 0, 0, 0.3));\n",
              "      fill: #FFFFFF;\n",
              "    }\n",
              "  </style>\n",
              "\n",
              "      <script>\n",
              "        const buttonEl =\n",
              "          document.querySelector('#df-2b3eec66-7b5a-4706-9de9-17f4302b59ca button.colab-df-convert');\n",
              "        buttonEl.style.display =\n",
              "          google.colab.kernel.accessAllowed ? 'block' : 'none';\n",
              "\n",
              "        async function convertToInteractive(key) {\n",
              "          const element = document.querySelector('#df-2b3eec66-7b5a-4706-9de9-17f4302b59ca');\n",
              "          const dataTable =\n",
              "            await google.colab.kernel.invokeFunction('convertToInteractive',\n",
              "                                                     [key], {});\n",
              "          if (!dataTable) return;\n",
              "\n",
              "          const docLinkHtml = 'Like what you see? Visit the ' +\n",
              "            '<a target=\"_blank\" href=https://colab.research.google.com/notebooks/data_table.ipynb>data table notebook</a>'\n",
              "            + ' to learn more about interactive tables.';\n",
              "          element.innerHTML = '';\n",
              "          dataTable['output_type'] = 'display_data';\n",
              "          await google.colab.output.renderOutput(dataTable, element);\n",
              "          const docLink = document.createElement('div');\n",
              "          docLink.innerHTML = docLinkHtml;\n",
              "          element.appendChild(docLink);\n",
              "        }\n",
              "      </script>\n",
              "    </div>\n",
              "  </div>\n",
              "  "
            ],
            "text/plain": [
              "        Close/Last         Open         High          Low\n",
              "count  1259.000000  1259.000000  1259.000000  1259.000000\n",
              "mean   3192.298928  3191.924234  3208.506458  3173.734734\n",
              "std     690.115533   689.771762   693.402610   686.152071\n",
              "min    2237.400000  2290.710000  2300.730000  2191.860000\n",
              "25%    2695.475000  2691.405000  2711.000000  2678.390000\n",
              "50%    2922.940000  2918.560000  2931.680000  2905.440000\n",
              "75%    3642.920000  3642.210000  3655.950000  3631.365000\n",
              "max    4796.560000  4804.510000  4818.620000  4780.040000"
            ]
          },
          "metadata": {},
          "execution_count": 189
        }
      ]
    },
    {
      "cell_type": "code",
      "source": [
        "plt.plot(df['Open'], color = 'red', label = 'Opening')\n",
        "plt.plot(df['Close/Last'], color = 'blue', label = 'Closing')\n",
        "plt.title('S&P 500')\n",
        "plt.xlabel('Time')\n",
        "plt.ylabel('Price')\n",
        "plt.legend()\n",
        "plt.show()"
      ],
      "metadata": {
        "colab": {
          "base_uri": "https://localhost:8080/",
          "height": 295
        },
        "id": "7pAPm_a7AO78",
        "outputId": "fff1ddfb-12f8-49a7-cc2c-820d8c683d38"
      },
      "execution_count": 190,
      "outputs": [
        {
          "output_type": "display_data",
          "data": {
            "image/png": "[encoded data removed]",
            "text/plain": [
              "<Figure size 432x288 with 1 Axes>"
            ]
          },
          "metadata": {
            "needs_background": "light"
          }
        }
      ]
    },
    {
      "cell_type": "code",
      "source": [
        "df = df.sort_index(ascending=True, axis=0)"
      ],
      "metadata": {
        "id": "CXA-8npxLU-_"
      },
      "execution_count": 191,
      "outputs": []
    },
    {
      "cell_type": "code",
      "source": [
        "df.index = df.Date\n",
        "df.drop(['Date', 'Volume', 'Open', 'High','Low'], axis=1, inplace=True)"
      ],
      "metadata": {
        "id": "5E4TgILZJahU"
      },
      "execution_count": 192,
      "outputs": []
    },
    {
      "cell_type": "code",
      "source": [
        "dataset = df.values\n",
        "scaler = MinMaxScaler(feature_range=(0, 1))\n",
        "scaled_data = scaler.fit_transform(dataset)"
      ],
      "metadata": {
        "id": "kBCoubKIIU1h"
      },
      "execution_count": 193,
      "outputs": []
    },
    {
      "cell_type": "markdown",
      "source": [
        "Need to apply scale due to LSTM being sensative to the scale of the input data. "
      ],
      "metadata": {
        "id": "atFFIugnKzKQ"
      }
    },
    {
      "cell_type": "code",
      "source": [
        "train = dataset[0:round(df.shape[0]*.8),:]\n",
        "valid = dataset[round(df.shape[0]*.8):round(df.shape[0]*.9),:]\n",
        "test = dataset[round(df.shape[0]*.9):,:]\n",
        "print(len(train), len(valid), len(test))"
      ],
      "metadata": {
        "colab": {
          "base_uri": "https://localhost:8080/"
        },
        "id": "pDDTj7mGMXVl",
        "outputId": "9dbb04e0-4bc3-421b-fee7-4b8ece56f231"
      },
      "execution_count": 194,
      "outputs": [
        {
          "output_type": "stream",
          "name": "stdout",
          "text": [
            "1007 126 126\n"
          ]
        }
      ]
    },
    {
      "cell_type": "code",
      "source": [
        "real_closing_price = test"
      ],
      "metadata": {
        "id": "sGykeY_1Zsgj"
      },
      "execution_count": 195,
      "outputs": []
    },
    {
      "cell_type": "code",
      "source": [
        "x_train, y_train = [], []\n",
        "for i in range(60,len(train)):\n",
        "    x_train.append(scaled_data[i-60:i,0])\n",
        "    y_train.append(scaled_data[i,0])\n",
        "x_train, y_train = np.array(x_train), np.array(y_train)\n",
        "x_train = np.reshape(x_train, (x_train.shape[0],x_train.shape[1],1))"
      ],
      "metadata": {
        "id": "6Fhe9_wIFg3X"
      },
      "execution_count": 196,
      "outputs": []
    },
    {
      "cell_type": "markdown",
      "source": [
        "### Models"
      ],
      "metadata": {
        "id": "z2Z3pAITQS-q"
      }
    },
    {
      "cell_type": "code",
      "source": [
        "model_1 = Sequential([\n",
        "              SimpleRNN(20, return_sequences=True,input_shape=(x_train.shape[1],1)),\n",
        "              SimpleRNN(20, return_sequences=True),\n",
        "              SimpleRNN(1)\n",
        "])\n",
        "\n",
        "model_1.compile(loss='mean_squared_error', optimizer='adam', metrics=['accuracy'])\n",
        "model_1.fit(x_train, y_train, epochs=20, batch_size=32, verbose=2)"
      ],
      "metadata": {
        "colab": {
          "base_uri": "https://localhost:8080/"
        },
        "id": "x5CZCSa1ZcXL",
        "outputId": "95d52cd5-1612-4dfc-bb27-d4c7368fea26"
      },
      "execution_count": 197,
      "outputs": [
        {
          "output_type": "stream",
          "name": "stdout",
          "text": [
            "Epoch 1/20\n",
            "30/30 - 3s - loss: 0.0190 - accuracy: 0.0011 - 3s/epoch - 96ms/step\n",
            "Epoch 2/20\n",
            "30/30 - 1s - loss: 0.0056 - accuracy: 0.0011 - 780ms/epoch - 26ms/step\n",
            "Epoch 3/20\n",
            "30/30 - 1s - loss: 0.0039 - accuracy: 0.0011 - 771ms/epoch - 26ms/step\n",
            "Epoch 4/20\n",
            "30/30 - 1s - loss: 0.0026 - accuracy: 0.0011 - 785ms/epoch - 26ms/step\n",
            "Epoch 5/20\n",
            "30/30 - 1s - loss: 0.0022 - accuracy: 0.0011 - 848ms/epoch - 28ms/step\n",
            "Epoch 6/20\n",
            "30/30 - 1s - loss: 0.0019 - accuracy: 0.0011 - 784ms/epoch - 26ms/step\n",
            "Epoch 7/20\n",
            "30/30 - 1s - loss: 0.0017 - accuracy: 0.0011 - 776ms/epoch - 26ms/step\n",
            "Epoch 8/20\n",
            "30/30 - 1s - loss: 0.0016 - accuracy: 0.0011 - 754ms/epoch - 25ms/step\n",
            "Epoch 9/20\n",
            "30/30 - 1s - loss: 0.0015 - accuracy: 0.0011 - 776ms/epoch - 26ms/step\n",
            "Epoch 10/20\n",
            "30/30 - 1s - loss: 0.0015 - accuracy: 0.0011 - 769ms/epoch - 26ms/step\n",
            "Epoch 11/20\n",
            "30/30 - 1s - loss: 0.0013 - accuracy: 0.0011 - 777ms/epoch - 26ms/step\n",
            "Epoch 12/20\n",
            "30/30 - 1s - loss: 0.0012 - accuracy: 0.0011 - 768ms/epoch - 26ms/step\n",
            "Epoch 13/20\n",
            "30/30 - 1s - loss: 0.0011 - accuracy: 0.0011 - 778ms/epoch - 26ms/step\n",
            "Epoch 14/20\n",
            "30/30 - 1s - loss: 0.0011 - accuracy: 0.0011 - 794ms/epoch - 26ms/step\n",
            "Epoch 15/20\n",
            "30/30 - 1s - loss: 0.0010 - accuracy: 0.0011 - 778ms/epoch - 26ms/step\n",
            "Epoch 16/20\n",
            "30/30 - 1s - loss: 0.0011 - accuracy: 0.0011 - 781ms/epoch - 26ms/step\n",
            "Epoch 17/20\n",
            "30/30 - 1s - loss: 9.6100e-04 - accuracy: 0.0011 - 781ms/epoch - 26ms/step\n",
            "Epoch 18/20\n",
            "30/30 - 1s - loss: 7.8708e-04 - accuracy: 0.0011 - 765ms/epoch - 25ms/step\n",
            "Epoch 19/20\n",
            "30/30 - 1s - loss: 8.5041e-04 - accuracy: 0.0011 - 767ms/epoch - 26ms/step\n",
            "Epoch 20/20\n",
            "30/30 - 1s - loss: 7.3786e-04 - accuracy: 0.0011 - 756ms/epoch - 25ms/step\n"
          ]
        },
        {
          "output_type": "execute_result",
          "data": {
            "text/plain": [
              "<keras.callbacks.History at 0x7fd1598ea8d0>"
            ]
          },
          "metadata": {},
          "execution_count": 197
        }
      ]
    },
    {
      "cell_type": "code",
      "source": [
        "inputs = df[len(df) - len(valid) - 60:].values\n",
        "inputs = inputs.reshape(-1,1)\n",
        "inputs  = scaler.transform(inputs)\n",
        "X_test = []\n",
        "for i in range(60,inputs.shape[0]):\n",
        "    X_test.append(inputs[i-60:i,0])\n",
        "X_test = np.array(X_test)\n",
        "X_test = np.reshape(X_test, (X_test.shape[0],X_test.shape[1],1))\n",
        "closing_price_1 = model_1.predict(X_test)\n",
        "closing_price_1 = scaler.inverse_transform(closing_price_1)"
      ],
      "metadata": {
        "id": "D5Vg9kMVZ30N"
      },
      "execution_count": 198,
      "outputs": []
    },
    {
      "cell_type": "code",
      "source": [
        "plt.plot(real_closing_price, color = 'black', label = 'Stock Price')\n",
        "plt.plot(closing_price_1, color = 'green', label = 'Predicted Stock Price')\n",
        "plt.title('Stock Price Prediction')\n",
        "plt.xlabel('Time')\n",
        "plt.ylabel(' Stock Price')\n",
        "plt.legend()\n",
        "plt.show()"
      ],
      "metadata": {
        "colab": {
          "base_uri": "https://localhost:8080/",
          "height": 295
        },
        "id": "QDu2uSROZ0yg",
        "outputId": "ffb3b420-f265-47cc-ea3e-35972149083c"
      },
      "execution_count": 199,
      "outputs": [
        {
          "output_type": "display_data",
          "data": {
            "image/png": "[encoded data removed]",
            "text/plain": [
              "<Figure size 432x288 with 1 Axes>"
            ]
          },
          "metadata": {
            "needs_background": "light"
          }
        }
      ]
    },
    {
      "cell_type": "markdown",
      "source": [
        "#### Long Short Term Memory (LSTM)  (3 Layers)"
      ],
      "metadata": {
        "id": "jEUDX69iQVEy"
      }
    },
    {
      "cell_type": "code",
      "source": [
        "model_2 = Sequential([\n",
        "                    LSTM(units = 50, return_sequences=True, input_shape = (x_train.shape[1],1)),\n",
        "                    Dropout(0.2),\n",
        "                    LSTM(units = 50, return_sequences=True),\n",
        "                    Dropout(0.2),\n",
        "                    LSTM(units = 50),\n",
        "                    Dropout(0.2),\n",
        "                    Dense(units=1)\n",
        "])\n",
        "model_2.compile(optimizer='adam', loss = 'mean_squared_error', metrics = ['accuracy']) \n",
        "model_2.fit(x_train, y_train, epochs = 20, batch_size = 32)"
      ],
      "metadata": {
        "id": "F-XcMLIHHk0T",
        "colab": {
          "base_uri": "https://localhost:8080/"
        },
        "outputId": "9ba8dc09-6877-4796-babb-ec30d794feee"
      },
      "execution_count": 200,
      "outputs": [
        {
          "output_type": "stream",
          "name": "stdout",
          "text": [
            "Epoch 1/20\n",
            "30/30 [==============================] - 8s 90ms/step - loss: 0.0259 - accuracy: 0.0011\n",
            "Epoch 2/20\n",
            "30/30 [==============================] - 3s 89ms/step - loss: 0.0041 - accuracy: 0.0011\n",
            "Epoch 3/20\n",
            "30/30 [==============================] - 3s 90ms/step - loss: 0.0037 - accuracy: 0.0011\n",
            "Epoch 4/20\n",
            "30/30 [==============================] - 3s 94ms/step - loss: 0.0035 - accuracy: 0.0011\n",
            "Epoch 5/20\n",
            "30/30 [==============================] - 3s 90ms/step - loss: 0.0036 - accuracy: 0.0011\n",
            "Epoch 6/20\n",
            "30/30 [==============================] - 3s 91ms/step - loss: 0.0032 - accuracy: 0.0011\n",
            "Epoch 7/20\n",
            "30/30 [==============================] - 3s 88ms/step - loss: 0.0032 - accuracy: 0.0011\n",
            "Epoch 8/20\n",
            "30/30 [==============================] - 3s 94ms/step - loss: 0.0033 - accuracy: 0.0011\n",
            "Epoch 9/20\n",
            "30/30 [==============================] - 3s 94ms/step - loss: 0.0029 - accuracy: 0.0011\n",
            "Epoch 10/20\n",
            "30/30 [==============================] - 3s 93ms/step - loss: 0.0029 - accuracy: 0.0011\n",
            "Epoch 11/20\n",
            "30/30 [==============================] - 3s 93ms/step - loss: 0.0029 - accuracy: 0.0011\n",
            "Epoch 12/20\n",
            "30/30 [==============================] - 3s 93ms/step - loss: 0.0030 - accuracy: 0.0011\n",
            "Epoch 13/20\n",
            "30/30 [==============================] - 3s 97ms/step - loss: 0.0031 - accuracy: 0.0011\n",
            "Epoch 14/20\n",
            "30/30 [==============================] - 3s 90ms/step - loss: 0.0031 - accuracy: 0.0011\n",
            "Epoch 15/20\n",
            "30/30 [==============================] - 3s 89ms/step - loss: 0.0028 - accuracy: 0.0011\n",
            "Epoch 16/20\n",
            "30/30 [==============================] - 3s 90ms/step - loss: 0.0026 - accuracy: 0.0011\n",
            "Epoch 17/20\n",
            "30/30 [==============================] - 3s 91ms/step - loss: 0.0027 - accuracy: 0.0011\n",
            "Epoch 18/20\n",
            "30/30 [==============================] - 3s 90ms/step - loss: 0.0025 - accuracy: 0.0011\n",
            "Epoch 19/20\n",
            "30/30 [==============================] - 3s 93ms/step - loss: 0.0028 - accuracy: 0.0011\n",
            "Epoch 20/20\n",
            "30/30 [==============================] - 3s 96ms/step - loss: 0.0029 - accuracy: 0.0011\n"
          ]
        },
        {
          "output_type": "execute_result",
          "data": {
            "text/plain": [
              "<keras.callbacks.History at 0x7fd1584f1ad0>"
            ]
          },
          "metadata": {},
          "execution_count": 200
        }
      ]
    },
    {
      "cell_type": "code",
      "source": [
        "inputs = df[len(df) - len(valid) - 60:].values\n",
        "inputs = inputs.reshape(-1,1)\n",
        "inputs  = scaler.transform(inputs)\n",
        "X_test = []\n",
        "for i in range(60,inputs.shape[0]):\n",
        "    X_test.append(inputs[i-60:i,0])\n",
        "X_test = np.array(X_test)\n",
        "X_test = np.reshape(X_test, (X_test.shape[0],X_test.shape[1],1))\n",
        "closing_price_2 = model_2.predict(X_test)\n",
        "closing_price_2 = scaler.inverse_transform(closing_price_2)"
      ],
      "metadata": {
        "id": "8ywUK_bOSVCQ"
      },
      "execution_count": 201,
      "outputs": []
    },
    {
      "cell_type": "code",
      "source": [
        "plt.plot(real_closing_price, color = 'black', label = 'Stock Price')\n",
        "plt.plot(closing_price_2, color = 'green', label = 'Predicted Stock Price')\n",
        "plt.title('Stock Price Prediction')\n",
        "plt.xlabel('Time')\n",
        "plt.ylabel(' Stock Price')\n",
        "plt.legend()\n",
        "plt.show()"
      ],
      "metadata": {
        "colab": {
          "base_uri": "https://localhost:8080/",
          "height": 295
        },
        "id": "tHKAhXlGT1Md",
        "outputId": "25c4a7e5-6740-48ff-c04e-74008480fe95"
      },
      "execution_count": 202,
      "outputs": [
        {
          "output_type": "display_data",
          "data": {
            "image/png": "[encoded data removed]",
            "text/plain": [
              "<Figure size 432x288 with 1 Axes>"
            ]
          },
          "metadata": {
            "needs_background": "light"
          }
        }
      ]
    },
    {
      "cell_type": "markdown",
      "source": [
        "#### Long Short Term Memory (LSTM)  (5 Layers)"
      ],
      "metadata": {
        "id": "aMsn0gVeaxFm"
      }
    },
    {
      "cell_type": "code",
      "source": [
        "model_3 = Sequential([\n",
        "                    LSTM(units = 50, return_sequences=True, input_shape = (x_train.shape[1],1)),\n",
        "                    Dropout(0.2),\n",
        "                    LSTM(units = 50, return_sequences=True),\n",
        "                    Dropout(0.2),\n",
        "                    LSTM(units = 50, return_sequences=True),\n",
        "                    Dropout(0.2),\n",
        "                    LSTM(units = 50, return_sequences=True),\n",
        "                    Dropout(0.2),\n",
        "                    LSTM(units=50),\n",
        "                    Dropout(0.2),\n",
        "                    Dense(units=1)\n",
        "])\n",
        "model_3.compile(optimizer='adam', loss = 'mean_squared_error', metrics = ['accuracy']) \n",
        "model_3.fit(x_train, y_train, epochs = 20, batch_size = 32)"
      ],
      "metadata": {
        "id": "btG0pakTT2tm",
        "colab": {
          "base_uri": "https://localhost:8080/"
        },
        "outputId": "26c970fe-dcfd-4999-e39d-634fa97df340"
      },
      "execution_count": 203,
      "outputs": [
        {
          "output_type": "stream",
          "name": "stdout",
          "text": [
            "Epoch 1/20\n",
            "30/30 [==============================] - 13s 149ms/step - loss: 0.0337 - accuracy: 0.0011\n",
            "Epoch 2/20\n",
            "30/30 [==============================] - 4s 148ms/step - loss: 0.0071 - accuracy: 0.0011\n",
            "Epoch 3/20\n",
            "30/30 [==============================] - 4s 150ms/step - loss: 0.0051 - accuracy: 0.0011\n",
            "Epoch 4/20\n",
            "30/30 [==============================] - 4s 149ms/step - loss: 0.0053 - accuracy: 0.0011\n",
            "Epoch 5/20\n",
            "30/30 [==============================] - 4s 147ms/step - loss: 0.0045 - accuracy: 0.0011\n",
            "Epoch 6/20\n",
            "30/30 [==============================] - 4s 148ms/step - loss: 0.0043 - accuracy: 0.0011\n",
            "Epoch 7/20\n",
            "30/30 [==============================] - 5s 150ms/step - loss: 0.0044 - accuracy: 0.0011\n",
            "Epoch 8/20\n",
            "30/30 [==============================] - 5s 153ms/step - loss: 0.0043 - accuracy: 0.0011\n",
            "Epoch 9/20\n",
            "30/30 [==============================] - 5s 156ms/step - loss: 0.0053 - accuracy: 0.0011\n",
            "Epoch 10/20\n",
            "30/30 [==============================] - 4s 148ms/step - loss: 0.0043 - accuracy: 0.0011\n",
            "Epoch 11/20\n",
            "30/30 [==============================] - 4s 149ms/step - loss: 0.0043 - accuracy: 0.0011\n",
            "Epoch 12/20\n",
            "30/30 [==============================] - 5s 153ms/step - loss: 0.0042 - accuracy: 0.0011\n",
            "Epoch 13/20\n",
            "30/30 [==============================] - 5s 155ms/step - loss: 0.0038 - accuracy: 0.0011\n",
            "Epoch 14/20\n",
            "30/30 [==============================] - 5s 152ms/step - loss: 0.0035 - accuracy: 0.0011\n",
            "Epoch 15/20\n",
            "30/30 [==============================] - 4s 148ms/step - loss: 0.0039 - accuracy: 0.0011\n",
            "Epoch 16/20\n",
            "30/30 [==============================] - 4s 147ms/step - loss: 0.0037 - accuracy: 0.0011\n",
            "Epoch 17/20\n",
            "30/30 [==============================] - 5s 153ms/step - loss: 0.0039 - accuracy: 0.0011\n",
            "Epoch 18/20\n",
            "30/30 [==============================] - 5s 152ms/step - loss: 0.0033 - accuracy: 0.0011\n",
            "Epoch 19/20\n",
            "30/30 [==============================] - 4s 147ms/step - loss: 0.0035 - accuracy: 0.0011\n",
            "Epoch 20/20\n",
            "30/30 [==============================] - 5s 152ms/step - loss: 0.0034 - accuracy: 0.0011\n"
          ]
        },
        {
          "output_type": "execute_result",
          "data": {
            "text/plain": [
              "<keras.callbacks.History at 0x7fd15d225f10>"
            ]
          },
          "metadata": {},
          "execution_count": 203
        }
      ]
    },
    {
      "cell_type": "code",
      "source": [
        "inputs = df[len(df) - len(valid) - 60:].values\n",
        "inputs = inputs.reshape(-1,1)\n",
        "inputs  = scaler.transform(inputs)\n",
        "X_test = []\n",
        "for i in range(60,inputs.shape[0]):\n",
        "    X_test.append(inputs[i-60:i,0])\n",
        "X_test = np.array(X_test)\n",
        "X_test = np.reshape(X_test, (X_test.shape[0],X_test.shape[1],1))\n",
        "closing_price_3 = model_3.predict(X_test)\n",
        "closing_price_3 = scaler.inverse_transform(closing_price_3)"
      ],
      "metadata": {
        "id": "-rvPut5Mbt2o"
      },
      "execution_count": 204,
      "outputs": []
    },
    {
      "cell_type": "code",
      "source": [
        "plt.plot(real_closing_price, color = 'black', label = 'Stock Price')\n",
        "plt.plot(closing_price_3, color = 'green', label = 'Predicted Stock Price')\n",
        "plt.title('Stock Price Prediction')\n",
        "plt.xlabel('Time')\n",
        "plt.ylabel(' Stock Price')\n",
        "plt.legend()\n",
        "plt.show()"
      ],
      "metadata": {
        "colab": {
          "base_uri": "https://localhost:8080/",
          "height": 295
        },
        "id": "r9kVywc8bzoZ",
        "outputId": "ec039fe3-0dce-4faa-bffc-25a93547fa70"
      },
      "execution_count": 205,
      "outputs": [
        {
          "output_type": "display_data",
          "data": {
            "image/png": "[encoded data removed]",
            "text/plain": [
              "<Figure size 432x288 with 1 Axes>"
            ]
          },
          "metadata": {
            "needs_background": "light"
          }
        }
      ]
    },
    {
      "cell_type": "markdown",
      "source": [
        "It looks like the more layers/more complicated the RNN, the worse it peforms on this dataset. Even though the accuracy is the same for each model, the graphs are able to show the difference between the models performances. "
      ],
      "metadata": {
        "id": "4mbhEO2NeI-a"
      }
    },
    {
      "cell_type": "markdown",
      "source": [
        "### Conclusions"
      ],
      "metadata": {
        "id": "8zAX2FxBbtfL"
      }
    },
    {
      "cell_type": "markdown",
      "source": [
        "RNNs had a hard time with this dataset. I think one of the major challenges was that the stock prices from the past 5 years were all over the place and decreasing from a really high point. It would have been better to look at data from before 2019 as it would be a bit easier to predict pre pandemic. "
      ],
      "metadata": {
        "id": "PsTBK8ErcPpF"
      }
    }
  ]
}